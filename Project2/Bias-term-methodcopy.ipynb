{
 "cells": [
  {
   "cell_type": "code",
   "execution_count": 1,
   "metadata": {},
   "outputs": [],
   "source": [
    "import numpy as np\n",
    "import pandas as pd\n",
    "import matplotlib.pyplot as plt\n",
    "import seaborn as sns\n",
    "import random"
   ]
  },
  {
   "cell_type": "markdown",
   "metadata": {},
   "source": [
    "# Helper functions"
   ]
  },
  {
   "cell_type": "code",
   "execution_count": 92,
   "metadata": {},
   "outputs": [],
   "source": [
    "def grad_U(Yij, Ui, Vj, reg, eta, ai, bj, mu):\n",
    "    \"\"\"\n",
    "    Takes as input Ui (the ith row of U), a training point Yij, the column\n",
    "    vector Vj (jth column of V^T), reg (the regularization parameter lambda),\n",
    "    and eta (the learning rate), ai (the bias term for user), bj (bias \n",
    "    term for movie), mu (the average of Y)\n",
    "\n",
    "    Returns the gradient of the regularized loss function with\n",
    "    respect to Ui multiplied by eta.\n",
    "    \"\"\"\n",
    "    return eta * np.subtract(reg * Ui, (Yij - mu - np.dot(Ui, Vj) - ai - bj)* Vj)\n",
    "\n",
    "def grad_V(Yij, Ui, Vj, reg, eta, ai, bj, mu):\n",
    "    \"\"\"\n",
    "    Takes as input Ui (the ith row of U), a training point Yij, the column\n",
    "    vector Vj (jth column of V^T), reg (the regularization parameter lambda),\n",
    "    and eta (the learning rate), ai (the bias term for user), bj (bias \n",
    "    term for movie), mu (the average of Y)\n",
    "\n",
    "    Returns the gradient of the regularized loss function with\n",
    "    respect to Vj multiplied by eta.\n",
    "    \"\"\"\n",
    "    return eta * np.subtract(reg * Vj, (Yij - mu - np.dot(Ui, Vj) - ai - bj)* Ui)\n",
    "\n",
    "def grad_a(Yij, Ui, Vj, reg, eta, ai, bj, mu):\n",
    "    \"\"\"\n",
    "    Takes as input Ui (the ith row of U), a training point Yij, the column\n",
    "    vector Vj (jth column of V^T), reg (the regularization parameter lambda),\n",
    "    and eta (the learning rate), ai (the bias term for user), bj (bias \n",
    "    term for movie), mu (the average of Y)\n",
    "\n",
    "    Returns the gradient of the regularized loss function with\n",
    "    respect to ai multiplied by eta.\n",
    "    \"\"\"\n",
    "    return eta * (reg * ai - Yij + mu + np.dot(Ui, Vj) + ai + bj)\n",
    "\n",
    "def grad_b(Yij, Ui, Vj, reg, eta, ai, bj, mu):\n",
    "    \"\"\"\n",
    "    Takes as input Ui (the ith row of U), a training point Yij, the column\n",
    "    vector Vj (jth column of V^T), reg (the regularization parameter lambda),\n",
    "    and eta (the learning rate), ai (the bias term for user), bj (bias \n",
    "    term for movie), mu (the average of Y)\n",
    "\n",
    "    Returns the gradient of the regularized loss function with\n",
    "    respect to bj multiplied by eta.\n",
    "    \"\"\"\n",
    "    return eta * (reg * bj - Yij + mu + np.dot(Ui, Vj) + ai + bj)\n",
    "\n",
    "def get_err(Y, U, V, reg, a, b, mu):\n",
    "    \"\"\"\n",
    "    Takes as input a matrix Y of triples (i, j, Y_ij) where i is the index of a user,\n",
    "    j is the index of a movie, and Y_ij is user i's rating of movie j, the\n",
    "    user/movie matrices U and V, the bias vectors a and b, and the average observed rating mu\n",
    "\n",
    "    Returns the mean regularized squared-error of predictions made by\n",
    "    estimating Y_{ij} as the dot product of the ith row of U and the jth column of V^T\n",
    "    \"\"\"\n",
    "    sum = 0.0\n",
    "    for x in range(len(Y)):\n",
    "        i = Y[x, 0] - 1\n",
    "        j = Y[x, 1] - 1\n",
    "        Yij = Y[x, 2]\n",
    "        sum += (Yij - mu - np.dot(U[i], V[j]) - a[i] - b[j])**2\n",
    "    return reg / 2 * (np.linalg.norm(U)**2 + np.linalg.norm(V)**2 + np.linalg.norm(a)**2 + np.linalg.norm(b)**2) + 0.5 * sum\n",
    "\n",
    "\n",
    "def train_model(M, N, K, eta, reg, Y, eps=0.0001, max_epochs=300):\n",
    "    \"\"\"\n",
    "    Given a training data matrix Y containing rows (i, j, Y_ij)\n",
    "    where Y_ij is user i's rating on movie j, learns an\n",
    "    M x K matrix U and N x K matrix V such that rating Y_ij is approximated\n",
    "    by (UV^T)_ij.\n",
    "\n",
    "    Uses a learning rate of <eta> and regularization of <reg>. Stops after\n",
    "    <max_epochs> epochs, or once the magnitude of the decrease in regularized\n",
    "    MSE between epochs is smaller than a fraction <eps> of the decrease in\n",
    "    MSE after the first epoch.\n",
    "\n",
    "    Returns a tuple (U, V, a, b, err) consisting of U, V, the bias vectors, and the MSE\n",
    "    of the model.\n",
    "    \"\"\"\n",
    "    a, b = -0.5, 0.5\n",
    "    U = (b - a) * np.random.random_sample((M, K)) + a\n",
    "    V = (b - a) * np.random.random_sample((N, K)) + a\n",
    "    A = (b - a) * np.random.random_sample((M, 1)) + a # bias for user\n",
    "    B = (b - a) * np.random.random_sample((N, 1)) + a # bias for movie\n",
    "    mu = np.mean(Y[:, 2]) # average of all observed rating\n",
    "    \n",
    "    # first iteration, get loss reduction for initial epoch\n",
    "    err0 = get_err(Y, U, V, reg, A, B, mu)\n",
    "    arr = np.arange(len(Y))\n",
    "    np.random.shuffle(arr)\n",
    "    for index in arr:\n",
    "        i = Y[index, 0] - 1\n",
    "        j = Y[index, 1] - 1\n",
    "        Yij = Y[index, 2]\n",
    "        Ui, Vj, Ai, Bj = U[i], V[j], A[i], B[j]\n",
    "        U[i] -= grad_U(Yij, Ui, Vj, reg, eta, Ai, Bj, mu)\n",
    "        V[j] -= grad_V(Yij, Ui, Vj, reg, eta, Ai, Bj, mu)\n",
    "        A[i] -= grad_a(Yij, Ui, Vj, reg, eta, Ai, Bj, mu)\n",
    "        B[j] -= grad_b(Yij, Ui, Vj, reg, eta, Ai, Bj, mu)\n",
    "    err01 = err0 - get_err(Y, U, V, reg, A, B, mu)\n",
    "    print(err01)\n",
    "\n",
    "    # second through last iterations\n",
    "    for epoch in range(max_epochs - 1):\n",
    "        last_err = get_err(Y, U, V, reg, A, B, mu)\n",
    "        arr = np.arange(len(Y))\n",
    "        np.random.shuffle(arr)\n",
    "        for index in arr:\n",
    "            i = Y[index, 0] - 1\n",
    "            j = Y[index, 1] - 1\n",
    "            Yij = Y[index, 2]\n",
    "            Ui, Vj, Ai, Bj = U[i], V[j], A[i], B[j]\n",
    "            U[i] -= grad_U(Yij, Ui, Vj, reg, eta, Ai, Bj, mu)\n",
    "            V[j] -= grad_V(Yij, Ui, Vj, reg, eta, Ai, Bj, mu)\n",
    "            A[i] -= grad_a(Yij, Ui, Vj, reg, eta, Ai, Bj, mu)\n",
    "            B[j] -= grad_b(Yij, Ui, Vj, reg, eta, Ai, Bj, mu)\n",
    "        curr_err = get_err(Y, U, V, reg, A, B, mu)\n",
    "        print('change in err / initial = ' + str((last_err - curr_err) / err01))\n",
    "        if (last_err - curr_err) / err01 < eps:\n",
    "            last_err = curr_err\n",
    "            break\n",
    "        last_err = curr_err\n",
    "    return (U, V, A, B, last_err)\n",
    "\n",
    "def clean_data(movies_file, data_file):\n",
    "    unique_title_id_map = {}  # to keep track of titles that already have an id\n",
    "    needed_updates = {}  # this array will map ids that need to be changed to the id\n",
    "    # they should be changed to\n",
    "    with open(movies_file, 'r', encoding='utf-8') as f:\n",
    "        for line in f:\n",
    "            line_data = line.strip('\\n').split('\\t')\n",
    "            movie_id, title = line_data[0], line_data[1]\n",
    "            if str(title) in unique_title_id_map:\n",
    "                needed_updates[movie_id] = unique_title_id_map[str(title)]\n",
    "            else:\n",
    "                unique_title_id_map[str(title)] = str(movie_id)\n",
    "    # print(needed_updates)\n",
    "\n",
    "    data_arr = np.loadtxt(data_file, dtype=np.int)\n",
    "    for i, row in enumerate(data_arr):\n",
    "        if str(row[1]) in needed_updates:\n",
    "            data_arr[i, 1] = needed_updates[str(row[1])]\n",
    "    return (data_arr)\n"
   ]
  },
  {
   "cell_type": "markdown",
   "metadata": {},
   "source": [
    "# Bias Term Method Training"
   ]
  },
  {
   "cell_type": "code",
   "execution_count": 26,
   "metadata": {},
   "outputs": [
    {
     "name": "stdout",
     "output_type": "stream",
     "text": [
      "Training model with M = 943, N = 1682, k = 20, eta = 0.03, reg = 0.1\n",
      "[33419.94411763]\n",
      "change in err / initial = [0.06142818]\n",
      "change in err / initial = [0.03997876]\n",
      "change in err / initial = [0.03662757]\n",
      "change in err / initial = [0.03669838]\n",
      "change in err / initial = [0.03312268]\n",
      "change in err / initial = [0.02869416]\n",
      "change in err / initial = [0.02678567]\n",
      "change in err / initial = [0.02486075]\n",
      "change in err / initial = [0.02344507]\n",
      "change in err / initial = [0.01638248]\n",
      "change in err / initial = [0.01886364]\n",
      "change in err / initial = [0.01457313]\n",
      "change in err / initial = [0.01203904]\n",
      "change in err / initial = [0.01236767]\n",
      "change in err / initial = [0.00937907]\n",
      "change in err / initial = [0.00836281]\n",
      "change in err / initial = [0.00700858]\n",
      "change in err / initial = [0.00588668]\n",
      "change in err / initial = [0.0051696]\n",
      "change in err / initial = [0.00534759]\n",
      "change in err / initial = [0.00716122]\n",
      "change in err / initial = [0.00350996]\n",
      "change in err / initial = [0.00219058]\n",
      "change in err / initial = [0.00445045]\n",
      "change in err / initial = [0.00413838]\n",
      "change in err / initial = [0.00295013]\n",
      "change in err / initial = [-0.00118452]\n"
     ]
    }
   ],
   "source": [
    "Y_train = np.loadtxt('data/train.txt').astype(int)\n",
    "Y_test = np.loadtxt('data/test.txt').astype(int)\n",
    "\n",
    "#movie_cols = ['Movie ID','Movie Title', 'Unknown', 'Action', 'Adventure', 'Animation', 'Childrens', 'Comedy', 'Crime', 'Documentary',\n",
    "#'Drama', 'Fantasy', 'Film-Noir', 'Horror', 'Musical', 'Mystery', 'Romance', 'Sci-Fi', 'Thriller', 'War', 'Western']\n",
    "\n",
    "#rat_cols = ['User ID', 'Movie ID', 'Rating']\n",
    "#ratings = np.loadtxt('data/data.txt', names=rat_cols)\n",
    "\n",
    "M = max(max(Y_train[:,0]), max(Y_test[:,0])).astype(int) # users\n",
    "N = max(max(Y_train[:,1]), max(Y_test[:,1])).astype(int) # movies\n",
    "k = 20\n",
    "\n",
    "reg = 0.1\n",
    "eta = 0.03 # learning rate\n",
    "\n",
    "print(\"Training model with M = %s, N = %s, k = %s, eta = %s, reg = %s\"%(M, N, k, eta, reg))\n",
    "U,V, A, B, e_in = train_model(M, N, k, eta, reg, Y_train)"
   ]
  },
  {
   "cell_type": "code",
   "execution_count": 62,
   "metadata": {},
   "outputs": [],
   "source": [
    "e_in /= len(Y_train)\n",
    "e_out = get_err(Y_test, U, V, reg, A, B, np.mean(Y_test[:, 2]))/ len(Y_test)"
   ]
  },
  {
   "cell_type": "code",
   "execution_count": 63,
   "metadata": {},
   "outputs": [
    {
     "name": "stdout",
     "output_type": "stream",
     "text": [
      "E_in is [0.25862908]\n",
      "E_out is [0.4412265]\n"
     ]
    }
   ],
   "source": [
    "print('E_in is ' + str(e_in))\n",
    "print('E_out is ' + str(e_out))"
   ]
  },
  {
   "cell_type": "markdown",
   "metadata": {},
   "source": [
    "# Find the average rating for each movie"
   ]
  },
  {
   "cell_type": "code",
   "execution_count": 9,
   "metadata": {},
   "outputs": [
    {
     "name": "stdout",
     "output_type": "stream",
     "text": [
      "[3.87831858 3.20610687 3.03333333 ... 2.         3.         3.        ]\n"
     ]
    }
   ],
   "source": [
    "movie_rating = np.zeros((1682,))\n",
    "movie_num_user_rating = np.zeros((1682,))\n",
    "for row in Y_train:\n",
    "    # 0 is user id, 1 is movie id, 2 is rating\n",
    "    movie_rating[row[1]-1] += row[2]\n",
    "    movie_num_user_rating[row[1]-1] += 1\n",
    "for row in Y_test:\n",
    "    # 0 is user id, 1 is movie id, 2 is rating\n",
    "    movie_rating[row[1]-1] += row[2]\n",
    "    movie_num_user_rating[row[1]-1] += 1\n",
    "movie_avg_rating = np.divide(np.array(movie_rating), np.array(movie_num_user_rating))\n",
    "print(movie_avg_rating)"
   ]
  },
  {
   "cell_type": "markdown",
   "metadata": {},
   "source": [
    "# Importing outside library AdjustText to make movie names not overlap"
   ]
  },
  {
   "cell_type": "code",
   "execution_count": 116,
   "metadata": {},
   "outputs": [
    {
     "name": "stdout",
     "output_type": "stream",
     "text": [
      "Collecting adjustText\n",
      "  Downloading https://files.pythonhosted.org/packages/9e/15/4157718bf323fd5f5b81c891c660d0f388e042d2689a558bf1389632dc44/adjustText-0.7.3.tar.gz\n",
      "Requirement already satisfied: numpy in c:\\users\\serena\\anaconda3\\lib\\site-packages (from adjustText) (1.16.5)\n",
      "Requirement already satisfied: matplotlib in c:\\users\\serena\\anaconda3\\lib\\site-packages (from adjustText) (3.1.1)\n",
      "Requirement already satisfied: cycler>=0.10 in c:\\users\\serena\\anaconda3\\lib\\site-packages (from matplotlib->adjustText) (0.10.0)\n",
      "Requirement already satisfied: kiwisolver>=1.0.1 in c:\\users\\serena\\anaconda3\\lib\\site-packages (from matplotlib->adjustText) (1.1.0)\n",
      "Requirement already satisfied: pyparsing!=2.0.4,!=2.1.2,!=2.1.6,>=2.0.1 in c:\\users\\serena\\anaconda3\\lib\\site-packages (from matplotlib->adjustText) (2.4.2)\n",
      "Requirement already satisfied: python-dateutil>=2.1 in c:\\users\\serena\\anaconda3\\lib\\site-packages (from matplotlib->adjustText) (2.8.0)\n",
      "Requirement already satisfied: six in c:\\users\\serena\\anaconda3\\lib\\site-packages (from cycler>=0.10->matplotlib->adjustText) (1.12.0)\n",
      "Requirement already satisfied: setuptools in c:\\users\\serena\\anaconda3\\lib\\site-packages (from kiwisolver>=1.0.1->matplotlib->adjustText) (41.4.0)\n",
      "Building wheels for collected packages: adjustText\n",
      "  Building wheel for adjustText (setup.py): started\n",
      "  Building wheel for adjustText (setup.py): finished with status 'done'\n",
      "  Created wheel for adjustText: filename=adjustText-0.7.3-cp37-none-any.whl size=7104 sha256=c4263acf1a0d03153ae0fe6a71ff16a917ac07de66488c34eadd3235078fb502\n",
      "  Stored in directory: C:\\Users\\serena\\AppData\\Local\\pip\\Cache\\wheels\\41\\95\\74\\7d347e136d672f8bc28e937032bc92baf4f80856763a7e7b72\n",
      "Successfully built adjustText\n",
      "Installing collected packages: adjustText\n",
      "Successfully installed adjustText-0.7.3\n"
     ]
    }
   ],
   "source": [
    "!pip install adjustText"
   ]
  },
  {
   "cell_type": "markdown",
   "metadata": {},
   "source": [
    "# Matrix Visualization with PC1 and PC2"
   ]
  },
  {
   "cell_type": "code",
   "execution_count": 23,
   "metadata": {},
   "outputs": [],
   "source": [
    "def clean_data(movies_file, data_file):\n",
    "    unique_title_id_map = {}  # to keep track of titles that already have an id\n",
    "    needed_updates = {}  # this array will map ids that need to be changed to the id\n",
    "    # they should be changed to\n",
    "    with open(movies_file, 'r') as f:\n",
    "        for line in f:\n",
    "            line_data = line.strip('\\n').split('\\t')\n",
    "            movie_id, title = line_data[0], line_data[1]\n",
    "            if str(title) in unique_title_id_map:\n",
    "                needed_updates[movie_id] = unique_title_id_map[str(title)]\n",
    "            else:\n",
    "                unique_title_id_map[str(title)] = str(movie_id)\n",
    "    # print(needed_updates)\n",
    "\n",
    "    data_arr = np.loadtxt(data_file, dtype=np.int)\n",
    "    for i, row in enumerate(data_arr):\n",
    "        if str(row[1]) in needed_updates:\n",
    "            data_arr[i, 1] = needed_updates[str(row[1])]\n",
    "    return (data_arr)\n",
    "\n",
    "Y_train = np.loadtxt('data/train.txt').astype(int)\n",
    "Y_test = np.loadtxt('data/test.txt').astype(int)\n",
    "\n",
    "#movie_cols = ['Movie ID','Movie Title', 'Unknown', 'Action', 'Adventure', 'Animation', 'Childrens', 'Comedy', 'Crime', 'Documentary',\n",
    "#'Drama', 'Fantasy', 'Film-Noir', 'Horror', 'Musical', 'Mystery', 'Romance', 'Sci-Fi', 'Thriller', 'War', 'Western']\n",
    "\n",
    "data_arr = clean_data('data/movies.txt','data/data.txt')\n",
    "\n",
    "def grad_U(Ui, Yij, Vj, reg, eta):\n",
    "    \"\"\"\n",
    "    Takes as input Ui (the ith row of U), a training point Yij, the column\n",
    "    vector Vj (jth column of V^T), reg (the regularization parameter lambda),\n",
    "    and eta (the learning rate).\n",
    "\n",
    "    Returns the gradient of the regularized loss function with\n",
    "    respect to Ui multiplied by eta.\n",
    "    \"\"\"\n",
    "    return eta * np.subtract(reg * Ui, (Yij - np.dot(Ui, Vj))* Vj)\n",
    "\n",
    "def grad_V(Vj, Yij, Ui, reg, eta):\n",
    "    \"\"\"\n",
    "    Takes as input the column vector Vj (jth column of V^T), a training point Yij,\n",
    "    Ui (the ith row of U), reg (the regularization parameter lambda),\n",
    "    and eta (the learning rate).\n",
    "\n",
    "    Returns the gradient of the regularized loss function with\n",
    "    respect to Vj multiplied by eta.\n",
    "    \"\"\"\n",
    "    return eta * np.subtract(reg * Vj, (Yij - np.dot(Ui, Vj))* Ui)\n",
    "\n",
    "def get_err(U, V, Y, reg=0.0):\n",
    "    \"\"\"\n",
    "    Takes as input a matrix Y of triples (i, j, Y_ij) where i is the index of a user,\n",
    "    j is the index of a movie, and Y_ij is user i's rating of movie j and\n",
    "    user/movie matrices U and V.\n",
    "\n",
    "    Returns the mean regularized squared-error of predictions made by\n",
    "    estimating Y_{ij} as the dot product of the ith row of U and the jth column of V^T\n",
    "    \n",
    "    sum = 0.0\n",
    "    for x in range(len(Y)):\n",
    "        i = Y[x, 0] - 1\n",
    "        j = Y[x, 1] - 1\n",
    "        Yij = Y[x, 2]\n",
    "        sum += (Yij - np.dot(U[i], V[j]))**2\n",
    "    return reg / 2 * (np.linalg.norm(U)**2 + np.linalg.norm(V)**2) + 0.5 * sum\"\"\"\n",
    "    N,D = Y.shape\n",
    "    err = 0\n",
    "    \n",
    "    for n in range(N):\n",
    "        i = Y[n,0] - 1\n",
    "        j = Y[n,1] - 1\n",
    "        yij = Y[n,2]\n",
    "        err += (yij - np.dot(U[i], V[j]))**2\n",
    "        \n",
    "    U_norm = np.linalg.norm(U)\n",
    "    V_norm = np.linalg.norm(V)\n",
    "    \n",
    "    return (reg/2 *(U_norm**2 + V_norm**2) + err/2) / N\n",
    "\n",
    "\n",
    "def train_model(M, N, K, eta, reg, Y, eps=0.0001, max_epochs=300):\n",
    "    \"\"\"\n",
    "    Given a training data matrix Y containing rows (i, j, Y_ij)\n",
    "    where Y_ij is user i's rating on movie j, learns an\n",
    "    M x K matrix U and N x K matrix V such that rating Y_ij is approximated\n",
    "    by (UV^T)_ij.\n",
    "\n",
    "    Uses a learning rate of <eta> and regularization of <reg>. Stops after\n",
    "    <max_epochs> epochs, or once the magnitude of the decrease in regularized\n",
    "    MSE between epochs is smaller than a fraction <eps> of the decrease in\n",
    "    MSE after the first epoch.\n",
    "\n",
    "    Returns a tuple (U, V, err) consisting of U, V, and the unregularized MSE\n",
    "    of the model.\n",
    "    \"\"\"\n",
    "    a, b = -0.5, 0.5\n",
    "    U = (b - a) * np.random.random_sample((M, K)) + a\n",
    "    V = (b - a) * np.random.random_sample((N, K)) + a\n",
    "    \n",
    "    # first iteration, get loss reduction for initial epoch\n",
    "    err0 = get_err(U, V, Y)\n",
    "    arr = np.arange(len(Y))\n",
    "    np.random.shuffle(arr)\n",
    "    for index in arr:\n",
    "        i = Y[index, 0] - 1\n",
    "        j = Y[index, 1] - 1\n",
    "        Yij = Y[index, 2]\n",
    "        U[i] -= grad_U(U[i], Yij, V[j], reg, eta)\n",
    "        V[j] -= grad_V(V[j], Yij, U[i], reg, eta)\n",
    "    err01 = err0 - get_err(U, V, Y)\n",
    "    \n",
    "    # second through last iterations\n",
    "    for epoch in range(max_epochs - 1):\n",
    "        last_err = get_err(U, V, Y)\n",
    "        arr = np.arange(len(Y))\n",
    "        np.random.shuffle(arr)\n",
    "        for index in arr:\n",
    "            i = Y[index, 0] - 1\n",
    "            j = Y[index, 1] - 1\n",
    "            Yij = Y[index, 2]\n",
    "            U[i] -= grad_U(U[i], Yij, V[j], reg, eta)\n",
    "            V[j] -= grad_V(V[j], Yij, U[i], reg, eta)\n",
    "        curr_err = get_err(U, V, Y)\n",
    "        if (last_err - curr_err) / err01 < eps:\n",
    "            last_err = curr_err\n",
    "            break\n",
    "        last_err = curr_err\n",
    "    return (U, V, last_err)\n",
    "\n",
    "import numpy as np\n",
    "from scipy.sparse.linalg import svds\n",
    "\n",
    "def off_train(M, N, Y):\n",
    "    train_m = np.zeros((M,N))\n",
    "    arr = np.arange(len(Y))\n",
    "\n",
    "    for index in arr:\n",
    "        i = Y[index, 0] - 1\n",
    "        j = Y[index, 1] - 1\n",
    "        Yij = Y[index,2]\n",
    "        train_m[i][j] = Yij\n",
    "        \n",
    "    #U, s, V = svds(train_m, k = 20)\n",
    "    U, s, V = np.linalg.svd(train_m)\n",
    "\n",
    "    return U, s, V\n",
    "\n",
    "M = max(max(Y_train[:,0]), max(Y_test[:,0])).astype(int) # users\n",
    "N = max(max(Y_train[:,1]), max(Y_test[:,1])).astype(int) # movies\n",
    "\n",
    "K = 20\n",
    "\n",
    "reg = 0 #10**-3\n",
    "eta = 0.03 # learning rate\n",
    "E_in = 0\n",
    "E_out = 0\n",
    "\n",
    "# Use to compute Ein and Eout\n",
    "U_off, Sigma, V_off = off_train(M, N, Y_train)"
   ]
  },
  {
   "cell_type": "code",
   "execution_count": 24,
   "metadata": {},
   "outputs": [],
   "source": [
    "from adjustText import adjust_text\n",
    "\n",
    "def visualize_2d(M, index, marker_sz, **kwargs):\n",
    "    \"\"\"Project a matrix into 2 dimensions and visualize it.\n",
    "    args: \n",
    "    M - matrix to project (V matrix)\n",
    "    index - indices of the movies to project\n",
    "    names - names of the movies for labeling\n",
    "\n",
    "    \"\"\"\n",
    "    names = kwargs.get('names', None)\n",
    "    \n",
    "    A, sigma, B = np.linalg.svd(M)\n",
    "    M_proj = np.matmul(A[:,:2].transpose(), M)\n",
    "    \n",
    "    cm = plt.cm.get_cmap('RdYlBu')\n",
    "    \n",
    "    sc = plt.scatter(M_proj[0,index], M_proj[1,index], s=marker_sz**2, vmin=0,vmax=5, c=movie_avg_rating[index], cmap=cm)\n",
    "    if names != None:\n",
    "        texts = []\n",
    "        for i, name in zip(index, names):\n",
    "            texts.append(plt.annotate(name, (M_proj[0, i], M_proj[1, i])))\n",
    "        adjust_text(texts, autoalign='y')\n",
    "    plt.colorbar(sc)\n",
    "    plt.title('Off the Shelf Visualization with Ratings')\n",
    "    plt.xlabel('PC1')\n",
    "    plt.ylabel('PC2')\n",
    "    plt.show()\n",
    "\n",
    "    return M_proj"
   ]
  },
  {
   "cell_type": "markdown",
   "metadata": {},
   "source": [
    "# V-vector of all movies"
   ]
  },
  {
   "cell_type": "code",
   "execution_count": 6,
   "metadata": {},
   "outputs": [
    {
     "ename": "NameError",
     "evalue": "name 'movie_avg_rating' is not defined",
     "output_type": "error",
     "traceback": [
      "\u001b[0;31m---------------------------------------------------------------------------\u001b[0m",
      "\u001b[0;31mNameError\u001b[0m                                 Traceback (most recent call last)",
      "\u001b[0;32m<ipython-input-6-1a7afed2ec76>\u001b[0m in \u001b[0;36m<module>\u001b[0;34m\u001b[0m\n\u001b[1;32m      1\u001b[0m \u001b[0mindex\u001b[0m \u001b[0;34m=\u001b[0m \u001b[0mrange\u001b[0m\u001b[0;34m(\u001b[0m\u001b[0;34m(\u001b[0m\u001b[0mV\u001b[0m\u001b[0;34m.\u001b[0m\u001b[0mT\u001b[0m\u001b[0;34m)\u001b[0m\u001b[0;34m.\u001b[0m\u001b[0mshape\u001b[0m\u001b[0;34m[\u001b[0m\u001b[0;36m1\u001b[0m\u001b[0;34m]\u001b[0m\u001b[0;34m)\u001b[0m\u001b[0;34m\u001b[0m\u001b[0;34m\u001b[0m\u001b[0m\n\u001b[0;32m----> 2\u001b[0;31m \u001b[0mvisualize_2d\u001b[0m\u001b[0;34m(\u001b[0m\u001b[0mV\u001b[0m\u001b[0;34m.\u001b[0m\u001b[0mT\u001b[0m\u001b[0;34m,\u001b[0m \u001b[0mindex\u001b[0m\u001b[0;34m,\u001b[0m \u001b[0;36m3\u001b[0m\u001b[0;34m)\u001b[0m\u001b[0;34m\u001b[0m\u001b[0;34m\u001b[0m\u001b[0m\n\u001b[0m",
      "\u001b[0;32m<ipython-input-5-e374de6904ea>\u001b[0m in \u001b[0;36mvisualize_2d\u001b[0;34m(M, index, marker_sz, **kwargs)\u001b[0m\n\u001b[1;32m     16\u001b[0m     \u001b[0mcm\u001b[0m \u001b[0;34m=\u001b[0m \u001b[0mplt\u001b[0m\u001b[0;34m.\u001b[0m\u001b[0mcm\u001b[0m\u001b[0;34m.\u001b[0m\u001b[0mget_cmap\u001b[0m\u001b[0;34m(\u001b[0m\u001b[0;34m'RdYlBu'\u001b[0m\u001b[0;34m)\u001b[0m\u001b[0;34m\u001b[0m\u001b[0;34m\u001b[0m\u001b[0m\n\u001b[1;32m     17\u001b[0m \u001b[0;34m\u001b[0m\u001b[0m\n\u001b[0;32m---> 18\u001b[0;31m     \u001b[0msc\u001b[0m \u001b[0;34m=\u001b[0m \u001b[0mplt\u001b[0m\u001b[0;34m.\u001b[0m\u001b[0mscatter\u001b[0m\u001b[0;34m(\u001b[0m\u001b[0mM_proj\u001b[0m\u001b[0;34m[\u001b[0m\u001b[0;36m0\u001b[0m\u001b[0;34m,\u001b[0m\u001b[0mindex\u001b[0m\u001b[0;34m]\u001b[0m\u001b[0;34m,\u001b[0m \u001b[0mM_proj\u001b[0m\u001b[0;34m[\u001b[0m\u001b[0;36m1\u001b[0m\u001b[0;34m,\u001b[0m\u001b[0mindex\u001b[0m\u001b[0;34m]\u001b[0m\u001b[0;34m,\u001b[0m \u001b[0ms\u001b[0m\u001b[0;34m=\u001b[0m\u001b[0mmarker_sz\u001b[0m\u001b[0;34m**\u001b[0m\u001b[0;36m2\u001b[0m\u001b[0;34m,\u001b[0m \u001b[0mvmin\u001b[0m\u001b[0;34m=\u001b[0m\u001b[0;36m0\u001b[0m\u001b[0;34m,\u001b[0m\u001b[0mvmax\u001b[0m\u001b[0;34m=\u001b[0m\u001b[0;36m5\u001b[0m\u001b[0;34m,\u001b[0m \u001b[0mc\u001b[0m\u001b[0;34m=\u001b[0m\u001b[0mmovie_avg_rating\u001b[0m\u001b[0;34m[\u001b[0m\u001b[0mindex\u001b[0m\u001b[0;34m]\u001b[0m\u001b[0;34m,\u001b[0m \u001b[0mcmap\u001b[0m\u001b[0;34m=\u001b[0m\u001b[0mcm\u001b[0m\u001b[0;34m)\u001b[0m\u001b[0;34m\u001b[0m\u001b[0;34m\u001b[0m\u001b[0m\n\u001b[0m\u001b[1;32m     19\u001b[0m     \u001b[0;32mif\u001b[0m \u001b[0mnames\u001b[0m \u001b[0;34m!=\u001b[0m \u001b[0;32mNone\u001b[0m\u001b[0;34m:\u001b[0m\u001b[0;34m\u001b[0m\u001b[0;34m\u001b[0m\u001b[0m\n\u001b[1;32m     20\u001b[0m         \u001b[0mtexts\u001b[0m \u001b[0;34m=\u001b[0m \u001b[0;34m[\u001b[0m\u001b[0;34m]\u001b[0m\u001b[0;34m\u001b[0m\u001b[0;34m\u001b[0m\u001b[0m\n",
      "\u001b[0;31mNameError\u001b[0m: name 'movie_avg_rating' is not defined"
     ]
    }
   ],
   "source": [
    "index = range((V.T).shape[1])\n",
    "visualize_2d(V.T, index, 3)"
   ]
  },
  {
   "cell_type": "markdown",
   "metadata": {},
   "source": [
    "# Get Movie Names"
   ]
  },
  {
   "cell_type": "code",
   "execution_count": 15,
   "metadata": {},
   "outputs": [],
   "source": [
    "all_movies_names = []\n",
    "with open('data/movies.txt', 'r', encoding='utf-8') as f:\n",
    "    for line in f:\n",
    "        line_data = line.strip('\\n').split('\\t')\n",
    "        all_movies_names.append(line_data[1])\n",
    "\n",
    "def get_movie_names(index):\n",
    "    chosen = []\n",
    "    for i in index:\n",
    "        chosen.append(all_movies_names[i])\n",
    "    return chosen"
   ]
  },
  {
   "cell_type": "markdown",
   "metadata": {},
   "source": [
    "# 10 randomly selected movies"
   ]
  },
  {
   "cell_type": "code",
   "execution_count": 25,
   "metadata": {},
   "outputs": [
    {
     "data": {
      "image/png": "[encoded data removed]",
      "text/plain": [
       "<Figure size 432x288 with 2 Axes>"
      ]
     },
     "metadata": {
      "needs_background": "light"
     },
     "output_type": "display_data"
    },
    {
     "data": {
      "text/plain": [
       "array([[ 3.19975166e-17, -6.81846868e-02,  7.63564244e-02, ...,\n",
       "         2.49092379e-03, -4.92054703e-03, -1.94694697e-03],\n",
       "       [ 1.02762037e-17,  1.69763209e-02,  3.23234102e-02, ...,\n",
       "         3.67341793e-04,  6.49603545e-03,  3.95882009e-03]])"
      ]
     },
     "execution_count": 25,
     "metadata": {},
     "output_type": "execute_result"
    }
   ],
   "source": [
    "import random\n",
    "    \n",
    "num_movies = 1682\n",
    "rand_index = np.random.choice(num_movies, 10, replace=False)\n",
    "chosen_movie_names = get_movie_names(rand_index)\n",
    "visualize_2d(V_off.T, rand_index, 8, names=chosen_movie_names)"
   ]
  },
  {
   "cell_type": "markdown",
   "metadata": {},
   "source": [
    "# Top 10 Most Popular Movies"
   ]
  },
  {
   "cell_type": "code",
   "execution_count": 28,
   "metadata": {},
   "outputs": [
    {
     "name": "stdout",
     "output_type": "stream",
     "text": [
      "Independence Day (ID4) (1996)\n",
      "Air Force One (1997)\n",
      "Toy Story (1995)\n",
      "Scream (1996)\n",
      "\"English Patient, The (1996)\"\n",
      "Liar Liar (1997)\n",
      "Return of the Jedi (1983)\n",
      "Fargo (1996)\n",
      "Contact (1997)\n",
      "Star Wars (1977)\n"
     ]
    },
    {
     "data": {
      "image/png": "[encoded data removed]",
      "text/plain": [
       "<Figure size 432x288 with 2 Axes>"
      ]
     },
     "metadata": {
      "needs_background": "light"
     },
     "output_type": "display_data"
    },
    {
     "data": {
      "text/plain": [
       "array([[ 3.19975166e-17, -6.81846868e-02,  7.63564244e-02, ...,\n",
       "         2.49092379e-03, -4.92054703e-03, -1.94694697e-03],\n",
       "       [ 1.02762037e-17,  1.69763209e-02,  3.23234102e-02, ...,\n",
       "         3.67341793e-04,  6.49603545e-03,  3.95882009e-03]])"
      ]
     },
     "execution_count": 28,
     "metadata": {},
     "output_type": "execute_result"
    }
   ],
   "source": [
    "# index of top 10 by number of ratings\n",
    "copy_num_rating = movie_num_user_rating.copy()\n",
    "index_top10_popular = copy_num_rating.argsort()[-10:]\n",
    "chosen_movie_names = get_movie_names(index_top10_popular)\n",
    "for name in chosen_movie_names:\n",
    "    print(name)\n",
    "visualize_2d(V_off.T, index_top10_popular, 8, names=chosen_movie_names)\n",
    "\n",
    "# maybe need to include genre??"
   ]
  },
  {
   "cell_type": "markdown",
   "metadata": {},
   "source": [
    "# Top 10 Best Movies by Ratings"
   ]
  },
  {
   "cell_type": "code",
   "execution_count": 29,
   "metadata": {},
   "outputs": [
    {
     "name": "stdout",
     "output_type": "stream",
     "text": [
      "Aiqing wansui (1994)\n",
      "Santa with Muscles (1996)\n",
      "Prefontaine (1997)\n",
      "Marlene Dietrich: Shadow and Light (1996) \n",
      "Someone Else's America (1995)\n",
      "They Made Me a Criminal (1939)\n",
      "\"Great Day in Harlem, A (1994)\"\n",
      "Entertaining Angels: The Dorothy Day Story (1996)\n",
      "\"Saint of Fort Washington, The (1993)\"\n",
      "Star Kid (1997)\n"
     ]
    },
    {
     "data": {
      "image/png": "[encoded data removed]",
      "text/plain": [
       "<Figure size 432x288 with 2 Axes>"
      ]
     },
     "metadata": {
      "needs_background": "light"
     },
     "output_type": "display_data"
    },
    {
     "data": {
      "text/plain": [
       "array([[ 3.19975166e-17, -6.81846868e-02,  7.63564244e-02, ...,\n",
       "         2.49092379e-03, -4.92054703e-03, -1.94694697e-03],\n",
       "       [ 1.02762037e-17,  1.69763209e-02,  3.23234102e-02, ...,\n",
       "         3.67341793e-04,  6.49603545e-03,  3.95882009e-03]])"
      ]
     },
     "execution_count": 29,
     "metadata": {},
     "output_type": "execute_result"
    }
   ],
   "source": [
    "# index of top 10 by number of ratings\n",
    "copy_avg_rating = movie_avg_rating.copy()\n",
    "index_top10_rating = copy_avg_rating.argsort()[-10:]\n",
    "chosen_movie_names = get_movie_names(index_top10_rating)\n",
    "for name in chosen_movie_names:\n",
    "    print(name)\n",
    "visualize_2d(V_off.T, index_top10_rating, 8, names=chosen_movie_names)\n",
    "\n",
    "# maybe need to include genre??"
   ]
  },
  {
   "cell_type": "markdown",
   "metadata": {},
   "source": [
    "# Selected Genre: "
   ]
  }
 ],
 "metadata": {
  "kernelspec": {
   "display_name": "Python 3",
   "language": "python",
   "name": "python3"
  },
  "language_info": {
   "codemirror_mode": {
    "name": "ipython",
    "version": 3
   },
   "file_extension": ".py",
   "mimetype": "text/x-python",
   "name": "python",
   "nbconvert_exporter": "python",
   "pygments_lexer": "ipython3",
   "version": "3.7.6"
  }
 },
 "nbformat": 4,
 "nbformat_minor": 2
}
