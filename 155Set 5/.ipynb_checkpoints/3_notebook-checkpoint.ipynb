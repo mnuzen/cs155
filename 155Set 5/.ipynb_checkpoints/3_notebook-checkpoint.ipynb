{
 "cells": [
  {
   "cell_type": "markdown",
   "metadata": {},
   "source": [
    "# Problem 3\n",
    "Authors: Sid Murching, Suraj Nair, Alex Cui"
   ]
  },
  {
   "cell_type": "code",
   "execution_count": 9,
   "metadata": {},
   "outputs": [],
   "source": [
    "import numpy as np\n",
    "from P3CHelpers import *\n",
    "from keras.models import Sequential\n",
    "import sys"
   ]
  },
  {
   "cell_type": "markdown",
   "metadata": {},
   "source": [
    "## 3D:\n",
    "Fill in the generate_traindata and find_most_similar_pairs functions"
   ]
  },
  {
   "cell_type": "code",
   "execution_count": 10,
   "metadata": {},
   "outputs": [],
   "source": [
    "def get_word_repr(word_to_index, word):\n",
    "    \"\"\"\n",
    "    Returns one-hot-encoded feature representation of the specified word given\n",
    "    a dictionary mapping words to their one-hot-encoded index.\n",
    "\n",
    "    Arguments:\n",
    "        word_to_index: Dictionary mapping words to their corresponding index\n",
    "                       in a one-hot-encoded representation of our corpus.\n",
    "\n",
    "        word:          String containing word whose feature representation we wish to compute.\n",
    "\n",
    "    Returns:\n",
    "        feature_representation:     Feature representation of the passed-in word.\n",
    "    \"\"\"\n",
    "    unique_words = word_to_index.keys()\n",
    "    # Return a vector that's zero everywhere besides the index corresponding to <word>\n",
    "    feat_rep = np.zeros(len(unique_words))\n",
    "    feat_rep[word_to_index[word]] = 1\n",
    "    return feat_rep    \n",
    "\n",
    "def generate_traindata(word_list, word_to_index, window_size=4):\n",
    "    \"\"\"\n",
    "    Generates training data for Skipgram model.\n",
    "\n",
    "    Arguments:\n",
    "        word_list:     Sequential list of words (strings).\n",
    "        word_to_index: Dictionary mapping words to their corresponding index\n",
    "                       in a one-hot-encoded representation of our corpus.\n",
    "\n",
    "        window_size:   Size of Skipgram window.\n",
    "                       (use the default value when running your code).\n",
    "\n",
    "    Returns:\n",
    "        (trainX, trainY):     A pair of matrices (trainX, trainY) containing training \n",
    "                              points (one-hot-encoded vectors representing individual words) and \n",
    "                              their corresponding labels (also one-hot-encoded vectors representing words).\n",
    "\n",
    "                              For each index i, trainX[i] should correspond to a word in\n",
    "                              <word_list>, and trainY[i] should correspond to one of the words within\n",
    "                              a window of size <window_size> of trainX[i].\n",
    "    \"\"\"\n",
    "    trainX = []\n",
    "    trainY = []\n",
    "    numWords = len(word_to_index)\n",
    "    trainX = []\n",
    "    trainY = []\n",
    "    allZeroes = [0 for i in range(numWords)]\n",
    "    \n",
    "    for i in range(len(word_list)):\n",
    "        for j in range(-window_size, window_size + 1):\n",
    "            if i + j >= 0 and i + j < len(word_list) and j != 0:\n",
    "                trainXV = get_word_repr(word_to_index, word_list[i])\n",
    "                trainX.append(trainXV)\n",
    "                trainYV = get_word_repr(word_to_index, word_list[i+j])\n",
    "                trainY.append(trainYV)\n",
    "\n",
    "    return (np.array(trainX), np.array(trainY))"
   ]
  },
  {
   "cell_type": "code",
   "execution_count": 12,
   "metadata": {},
   "outputs": [],
   "source": [
    "def find_most_similar_pairs(filename, num_latent_factors):\n",
    "    \"\"\"\n",
    "    Find the most similar pairs from the word embeddings computed from\n",
    "    a body of text\n",
    "    \n",
    "    Arguments:\n",
    "        filename:           Text file to read and train embeddings from\n",
    "        num_latent_factors: The number of latent factors / the size of the embedding\n",
    "    \"\"\"\n",
    "    # Load in a list of words from the specified file; remove non-alphanumeric characters\n",
    "    # and make all chars lowercase.\n",
    "    sample_text = load_word_list(filename)\n",
    "\n",
    "    # Create dictionary mapping unique words to their one-hot-encoded index\n",
    "    word_to_index = generate_onehot_dict(sample_text)\n",
    "    # Create training data using default window size\n",
    "    trainX, trainY = generate_traindata(sample_text, word_to_index)\n",
    "    \n",
    "    # TODO: 1) Create and train model in Keras.      \n",
    "    \n",
    "    # vocab_size = number of unique words in our text file. Will be useful when adding layers\n",
    "    # to your neural network\n",
    "    vocab_size = len(word_to_index)\n",
    "    model = Sequential()\n",
    "    model.add(Dense(num_latent_factors, input_dim=(vocab_size)))\n",
    "    model.add(Dense(vocab_size))\n",
    "    model.add(Activation('softmax'))\n",
    "    model.compile(loss='categorical_crossentropy', optimizer='rmsprop',\n",
    "                  metrics=['accuracy'])    \n",
    "    fit = model.fit(trainX, trainY)\n",
    "    \n",
    "    print(\"Hidden layer shape\" + str(model.layers[0].get_weights()[0].shape))\n",
    "    print(\"Output layer shape\" + str(model.layers[1].get_weights()[0].shape))\n",
    "    # TODO: 2) Extract weights for hidden layer, set <weights> variable below\n",
    "    \n",
    "    weights = model.layers[0].get_weights()[0]\n",
    "\n",
    "    # Find and print most similar pairs\n",
    "    similar_pairs = most_similar_pairs(weights, word_to_index)\n",
    "    for pair in similar_pairs[:30]:\n",
    "        print(pair)"
   ]
  },
  {
   "cell_type": "code",
   "execution_count": 6,
   "metadata": {},
   "outputs": [],
   "source": []
  },
  {
   "cell_type": "code",
   "execution_count": null,
   "metadata": {},
   "outputs": [],
   "source": []
  },
  {
   "cell_type": "markdown",
   "metadata": {},
   "source": [
    "## 3G:\n",
    "Run the function below and report your results for dr_seuss.txt."
   ]
  },
  {
   "cell_type": "code",
   "execution_count": null,
   "metadata": {},
   "outputs": [],
   "source": [
    "find_most_similar_pairs('data/dr_seuss.txt', 10)"
   ]
  },
  {
   "cell_type": "code",
   "execution_count": null,
   "metadata": {},
   "outputs": [],
   "source": []
  }
 ],
 "metadata": {
  "kernelspec": {
   "display_name": "Python 3",
   "language": "python",
   "name": "python3"
  },
  "language_info": {
   "codemirror_mode": {
    "name": "ipython",
    "version": 3
   },
   "file_extension": ".py",
   "mimetype": "text/x-python",
   "name": "python",
   "nbconvert_exporter": "python",
   "pygments_lexer": "ipython3",
   "version": "3.7.6"
  }
 },
 "nbformat": 4,
 "nbformat_minor": 4
}
