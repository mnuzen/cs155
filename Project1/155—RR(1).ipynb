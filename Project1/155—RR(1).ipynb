{
 "cells": [
  {
   "cell_type": "code",
   "execution_count": 54,
   "metadata": {
    "_cell_guid": "b1076dfc-b9ad-4769-8c92-a6c4dae69d19",
    "_uuid": "8f2839f25d086af736a60e9eeb907d3b93b6e0e5"
   },
   "outputs": [],
   "source": [
    "# This Python 3 environment comes with many helpful analytics libraries installed\n",
    "# It is defined by the kaggle/python docker image: https://github.com/kaggle/docker-python\n",
    "# For example, here's several helpful packages to load in \n",
    "\n",
    "import numpy as np # linear algebra\n",
    "import pandas as pd # data processing, CSV file I/O (e.g. pd.read_csv)\n",
    "import matplotlib.pyplot as plt\n",
    "from sklearn.linear_model import Ridge\n",
    "from sklearn.preprocessing import MinMaxScaler\n",
    "import sklearn"
   ]
  },
  {
   "cell_type": "code",
   "execution_count": 55,
   "metadata": {
    "_cell_guid": "",
    "_uuid": ""
   },
   "outputs": [],
   "source": [
    "# Import raw data\n",
    "sample_submission = pd.read_csv(\"~/Desktop/caltech/sample_submission.csv\")\n",
    "test_df = pd.read_csv(\"~/Desktop/caltech/test.csv\")\n",
    "train_df = pd.read_csv(\"~/Desktop/caltech/train.csv\")"
   ]
  },
  {
   "cell_type": "code",
   "execution_count": 56,
   "metadata": {},
   "outputs": [
    {
     "name": "stdout",
     "output_type": "stream",
     "text": [
      "Len X_trn:  592380\n",
      "Len Y_trn:  592380\n"
     ]
    }
   ],
   "source": [
    "from sklearn.impute import SimpleImputer\n",
    "imputer = SimpleImputer()\n",
    "\n",
    "#clean_test = test_df.dropna()\n",
    "clean_test = test_df.drop(['id'],axis=1)\n",
    "#clean_test.interpolate()\n",
    "clean_test = imputer.fit_transform(clean_test)\n",
    "\n",
    "#clean_train = train_df.dropna()\n",
    "clean_train = train_df.drop([\"id\"],axis=1)\n",
    "#clean_train.interpolate()\n",
    "clean_train = imputer.fit_transform(clean_train)\n",
    "\n",
    "train_arr = np.array(clean_train)\n",
    "test_arr = np.array(clean_test)\n",
    "# try linear interpolation instead\n",
    "\n",
    "X_trn, Y_trn = train_arr[:,:26], train_arr[:,-1]\n",
    "\n",
    "print(\"Len X_trn: \", len(X_trn))\n",
    "print(\"Len Y_trn: \", len(Y_trn))"
   ]
  },
  {
   "cell_type": "code",
   "execution_count": 57,
   "metadata": {},
   "outputs": [
    {
     "data": {
      "image/png": "[encoded data removed]",
      "text/plain": [
       "<Figure size 432x288 with 1 Axes>"
      ]
     },
     "metadata": {
      "needs_background": "light"
     },
     "output_type": "display_data"
    }
   ],
   "source": [
    "# Normalize data\n",
    "\n",
    "#id = train_df.drop(columns=['id'])\n",
    "scaler = MinMaxScaler(feature_range=(-1, 1))\n",
    "scaler.fit(train_df)\n",
    "train_df[['last_price','mid']] = scaler.fit_transform(train_df[['last_price','mid']])\n",
    "\n",
    "# Show normalized data\n",
    "plt.figure()\n",
    "plt.plot(train_df['id'],train_df['last_price'])\n",
    "plt.xlabel('Time Stamp')\n",
    "plt.ylabel('Last Price')\n",
    "plt.show()"
   ]
  },
  {
   "cell_type": "code",
   "execution_count": 77,
   "metadata": {},
   "outputs": [],
   "source": [
    "\n",
    "def ridge(x, y):\n",
    "    # run ridge and return weights\n",
    "    clf = Ridge()\n",
    "    clf.fit(x,y)\n",
    "    #predicted = clf.predict_(x)\n",
    "    d = clf.predict(x)\n",
    "    probs = np.exp(d) / np.sum(np.exp(d))\n",
    "    return clf, probs\n",
    "\n",
    "clf_ridge, p_ridge = ridge(X_trn, Y_trn)"
   ]
  },
  {
   "cell_type": "code",
   "execution_count": 78,
   "metadata": {},
   "outputs": [
    {
     "name": "stdout",
     "output_type": "stream",
     "text": [
      "[5.55005320e-06 2.32886588e-06 2.98766181e-06 ... 1.42345352e-06\n",
      " 1.42345352e-06 1.42345352e-06]\n"
     ]
    }
   ],
   "source": [
    "print((p_ridge))"
   ]
  },
  {
   "cell_type": "code",
   "execution_count": 79,
   "metadata": {},
   "outputs": [
    {
     "data": {
      "text/plain": [
       "0.6441120173493247"
      ]
     },
     "execution_count": 79,
     "metadata": {},
     "output_type": "execute_result"
    }
   ],
   "source": [
    "import sklearn\n",
    "sklearn.metrics.roc_auc_score(np.reshape(Y_trn,(len(X_trn),)),\n",
    "                             np.reshape(clf_ridge.predict(X_trn),(len(X_trn,))),)\n",
    "# training score normalized = .6441120173493247"
   ]
  },
  {
   "cell_type": "code",
   "execution_count": 86,
   "metadata": {},
   "outputs": [
    {
     "name": "stdout",
     "output_type": "stream",
     "text": [
      "[5.80384343e-06 4.96100917e-06 4.45760108e-06 ... 5.47318090e-06\n",
      " 4.95422566e-06 4.07522337e-06]\n"
     ]
    }
   ],
   "source": [
    "#X_tst, Y_tst = test_arr[:,:26], test_arr[:,-1]\n",
    "X_tst = test_arr[:,:26]\n",
    "\n",
    "fin_prediction = clf_ridge.predict(test_arr)\n",
    "fin_probs = np.exp(fin_prediction) / np.sum(np.exp(fin_prediction))\n",
    "print(fin_probs)"
   ]
  },
  {
   "cell_type": "code",
   "execution_count": 82,
   "metadata": {},
   "outputs": [],
   "source": [
    "clean_sub = sample_submission.drop(['Predicted'],axis=1)"
   ]
  },
  {
   "cell_type": "code",
   "execution_count": 87,
   "metadata": {},
   "outputs": [],
   "source": [
    "clean_sub['Predicted'] = fin_probs"
   ]
  },
  {
   "cell_type": "code",
   "execution_count": 88,
   "metadata": {},
   "outputs": [
    {
     "data": {
      "text/html": [
       "<div>\n",
       "<style scoped>\n",
       "    .dataframe tbody tr th:only-of-type {\n",
       "        vertical-align: middle;\n",
       "    }\n",
       "\n",
       "    .dataframe tbody tr th {\n",
       "        vertical-align: top;\n",
       "    }\n",
       "\n",
       "    .dataframe thead th {\n",
       "        text-align: right;\n",
       "    }\n",
       "</style>\n",
       "<table border=\"1\" class=\"dataframe\">\n",
       "  <thead>\n",
       "    <tr style=\"text-align: right;\">\n",
       "      <th></th>\n",
       "      <th>id</th>\n",
       "      <th>Predicted</th>\n",
       "    </tr>\n",
       "  </thead>\n",
       "  <tbody>\n",
       "    <tr>\n",
       "      <th>0</th>\n",
       "      <td>592380</td>\n",
       "      <td>0.000006</td>\n",
       "    </tr>\n",
       "    <tr>\n",
       "      <th>1</th>\n",
       "      <td>592381</td>\n",
       "      <td>0.000005</td>\n",
       "    </tr>\n",
       "    <tr>\n",
       "      <th>2</th>\n",
       "      <td>592382</td>\n",
       "      <td>0.000004</td>\n",
       "    </tr>\n",
       "    <tr>\n",
       "      <th>3</th>\n",
       "      <td>592383</td>\n",
       "      <td>0.000005</td>\n",
       "    </tr>\n",
       "    <tr>\n",
       "      <th>4</th>\n",
       "      <td>592384</td>\n",
       "      <td>0.000007</td>\n",
       "    </tr>\n",
       "    <tr>\n",
       "      <th>...</th>\n",
       "      <td>...</td>\n",
       "      <td>...</td>\n",
       "    </tr>\n",
       "    <tr>\n",
       "      <th>191854</th>\n",
       "      <td>784234</td>\n",
       "      <td>0.000005</td>\n",
       "    </tr>\n",
       "    <tr>\n",
       "      <th>191855</th>\n",
       "      <td>784235</td>\n",
       "      <td>0.000004</td>\n",
       "    </tr>\n",
       "    <tr>\n",
       "      <th>191856</th>\n",
       "      <td>784236</td>\n",
       "      <td>0.000005</td>\n",
       "    </tr>\n",
       "    <tr>\n",
       "      <th>191857</th>\n",
       "      <td>784237</td>\n",
       "      <td>0.000005</td>\n",
       "    </tr>\n",
       "    <tr>\n",
       "      <th>191858</th>\n",
       "      <td>784238</td>\n",
       "      <td>0.000004</td>\n",
       "    </tr>\n",
       "  </tbody>\n",
       "</table>\n",
       "<p>191859 rows × 2 columns</p>\n",
       "</div>"
      ],
      "text/plain": [
       "            id  Predicted\n",
       "0       592380   0.000006\n",
       "1       592381   0.000005\n",
       "2       592382   0.000004\n",
       "3       592383   0.000005\n",
       "4       592384   0.000007\n",
       "...        ...        ...\n",
       "191854  784234   0.000005\n",
       "191855  784235   0.000004\n",
       "191856  784236   0.000005\n",
       "191857  784237   0.000005\n",
       "191858  784238   0.000004\n",
       "\n",
       "[191859 rows x 2 columns]"
      ]
     },
     "execution_count": 88,
     "metadata": {},
     "output_type": "execute_result"
    }
   ],
   "source": [
    "clean_sub"
   ]
  },
  {
   "cell_type": "code",
   "execution_count": 89,
   "metadata": {},
   "outputs": [],
   "source": [
    "#np.savetxt('RR.csv',clean_sub,delimiter=',')\n",
    "clean_sub.to_csv('submission4.csv', sep=',', index=False, header=1)"
   ]
  },
  {
   "cell_type": "code",
   "execution_count": null,
   "metadata": {},
   "outputs": [],
   "source": []
  }
 ],
 "metadata": {
  "kernelspec": {
   "display_name": "Python 3",
   "language": "python",
   "name": "python3"
  },
  "language_info": {
   "codemirror_mode": {
    "name": "ipython",
    "version": 3
   },
   "file_extension": ".py",
   "mimetype": "text/x-python",
   "name": "python",
   "nbconvert_exporter": "python",
   "pygments_lexer": "ipython3",
   "version": "3.7.6"
  }
 },
 "nbformat": 4,
 "nbformat_minor": 1
}
