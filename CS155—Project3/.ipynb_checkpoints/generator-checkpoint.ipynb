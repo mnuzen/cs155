{
 "cells": [
  {
   "cell_type": "markdown",
   "metadata": {},
   "source": [
    "#  Preprocessing"
   ]
  },
  {
   "cell_type": "code",
   "execution_count": 44,
   "metadata": {},
   "outputs": [],
   "source": [
    "import numpy as np\n",
    "import matplotlib.pyplot as plt\n",
    "import random\n",
    "\n",
    "import nltk\n",
    "import os\n",
    "import string\n",
    "from HMM import supervised_HMM, unsupervised_HMM, HiddenMarkovModel\n",
    "import re # regular expression\n",
    "\n",
    "import keras.preprocessing.text"
   ]
  },
  {
   "cell_type": "code",
   "execution_count": 46,
   "metadata": {},
   "outputs": [],
   "source": [
    "def parse_map(lines):\n",
    "    counter = 0\n",
    "    x = []\n",
    "    mapping = {}\n",
    "\n",
    "    for line in lines:\n",
    "        elem = []\n",
    "        \n",
    "        for word in line:\n",
    "            # replace the following characters with '', i.e. remove them\n",
    "            word = re.sub(r'[]_`\\{|\\}0123456789^\\n\\t', '', word)\n",
    "            # convert all words to lower case\n",
    "            word = word.lower()\n",
    "            \n",
    "            if word not in mapping:\n",
    "                mapping[word] = counter\n",
    "                counter += 1\n",
    "            elem.append(mapping[word])\n",
    "        x.append(elem)\n",
    "\n",
    "    return x, mapping\n",
    "\n",
    "def mapping_reverser(mapping):\n",
    "    mapping_r = {}\n",
    "\n",
    "    for key in mapping:\n",
    "        mapping_r[mapping[key]] = key\n",
    "\n",
    "    return mapping_r"
   ]
  },
  {
   "cell_type": "code",
   "execution_count": 47,
   "metadata": {},
   "outputs": [],
   "source": [
    "# get syllable info\n",
    "\n",
    "syllable = open(filename, 'data/Syllable_dictionary.txt')\n",
    "syllable_dic = {}\n",
    "    \n",
    "for line in syllable:\n",
    "    line = line.split()\n",
    "    word = line[0]\n",
    "    rem = line[1: len(line)]\n",
    "    syllable_dic[word] = rem"
   ]
  },
  {
   "cell_type": "code",
   "execution_count": 48,
   "metadata": {},
   "outputs": [],
   "source": [
    "def open_file(files):\n",
    "    '''Keeps track of lines in an array and words in a dictionary mapping to word frequency'''\n",
    "    words = {}\n",
    "    lines = [] \n",
    "    \n",
    "    for f in files:\n",
    "        file = open(f, 'r')\n",
    "        \n",
    "        for line in file:\n",
    "            line = line.strip()\n",
    "            line = line.lower() # turn everything into lower case\n",
    "            line = \"\".join(l for l in line if l not in string.punctuation) # take out all punctuation\n",
    "            line = line.split() # split the line and then add it to lines\n",
    "\n",
    "            lines.append(line)\n",
    "\n",
    "            # increase frequency if item already exists, create it if it doesn't\n",
    "            for w in line:\n",
    "                try:\n",
    "                    words[w] += 1\n",
    "                except KeyError:\n",
    "                    words[w] = 1\n",
    "    \n",
    "    return words, lines"
   ]
  },
  {
   "cell_type": "code",
   "execution_count": null,
   "metadata": {},
   "outputs": [],
   "source": [
    "words, lines = open_file([\"data/shakespeare.txt\",\"data/spenser.txt\"])"
   ]
  },
  {
   "cell_type": "code",
   "execution_count": null,
   "metadata": {},
   "outputs": [],
   "source": [
    "states = 12\n",
    "iterations = 40\n",
    "x, mapping =  parse_map(lines)\n",
    "\n",
    "HMM = unsupervised_HMM(x, states, iterations)"
   ]
  },
  {
   "cell_type": "code",
   "execution_count": 57,
   "metadata": {},
   "outputs": [
    {
     "name": "stdout",
     "output_type": "stream",
     "text": [
      "Rare are too mine on tongue and love thee we\n",
      "The gilded thee in alike so a name\n",
      "There may as smother the remedy joy\n",
      "Though wait with her by love favour to for\n",
      "Costly didst another clouds depart true\n",
      "Thy love supposed am like me writ thy a\n",
      "Me from shall he best like that due not which\n",
      "And then travels spoils was out solemn which\n",
      "And from a name grievances his heart show\n",
      "May sits in the lack is countenance thy\n",
      "Be so in to up now this my love fly\n",
      "Never was needs love for sang thereof blood\n",
      "As any earth her with full arts so proud\n",
      "O goodly do grace such from men burn thus\n"
     ]
    }
   ],
   "source": [
    "x, mapping = parse_map(lines)\n",
    "mapping_r =  mapping_reverser(mapping)\n",
    "\n",
    "poem_length = 14\n",
    "syllable_length = 10\n",
    "\n",
    "for i in range(poem_length): \n",
    "        emission = HMM[0].generate_emission_syllables(syllable_length, mapping_r, syllable_dic) \n",
    "        sentence = [mapping_r[i] for i in emission[0]]\n",
    "\n",
    "        print(' '.join(sentence).capitalize())"
   ]
  }
 ],
 "metadata": {
  "kernelspec": {
   "display_name": "Python 3",
   "language": "python",
   "name": "python3"
  },
  "language_info": {
   "codemirror_mode": {
    "name": "ipython",
    "version": 3
   },
   "file_extension": ".py",
   "mimetype": "text/x-python",
   "name": "python",
   "nbconvert_exporter": "python",
   "pygments_lexer": "ipython3",
   "version": "3.7.6"
  }
 },
 "nbformat": 4,
 "nbformat_minor": 4
}
