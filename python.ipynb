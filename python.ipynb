{
 "cells": [
  {
   "cell_type": "code",
   "execution_count": 12,
   "metadata": {
    "_cell_guid": "b1076dfc-b9ad-4769-8c92-a6c4dae69d19",
    "_uuid": "8f2839f25d086af736a60e9eeb907d3b93b6e0e5"
   },
   "outputs": [],
   "source": [
    "def shortestCommonSuperDP(str1, str2):\n",
    "    dp = [[None for _ in range(len(str2) + 1)] for _ in range(len(str1) + 1)]\n",
    "    print(\"initial dp: \\n\", dp)\n",
    "    for i in range(len(str1)+1):\n",
    "        for j in range(len(str2)+1):\n",
    "            if not i:\n",
    "                dp[i][j] = j\n",
    "                print(\"not i\\n\")\n",
    "            elif not j:\n",
    "                dp[i][j] = i\n",
    "                print(\"not j\\n\")\n",
    "            elif str1[i - 1] == str2[j - 1]:\n",
    "                print(\"equals\\n\")\n",
    "                dp[i][j] = dp[i - 1][j - 1] + 1\n",
    "            else:\n",
    "                dp[i][j] =1 + min(dp[i - 1][j], dp[i][j - 1])\n",
    "                print(\"else\\n\")\n",
    "    print(\"final dp: \\n\", dp)\n",
    "    return dp[len(str1)][len(str2)]\n",
    "    # for printing purpose\n",
    "    #######"
   ]
  },
  {
   "cell_type": "code",
   "execution_count": 22,
   "metadata": {},
   "outputs": [
    {
     "name": "stdout",
     "output_type": "stream",
     "text": [
      "initial dp: \n",
      " [[None, None, None, None, None], [None, None, None, None, None], [None, None, None, None, None], [None, None, None, None, None], [None, None, None, None, None]]\n",
      "not i\n",
      "\n",
      "not i\n",
      "\n",
      "not i\n",
      "\n",
      "not i\n",
      "\n",
      "not i\n",
      "\n",
      "not j\n",
      "\n",
      "else\n",
      "\n",
      "else\n",
      "\n",
      "else\n",
      "\n",
      "equals\n",
      "\n",
      "not j\n",
      "\n",
      "else\n",
      "\n",
      "else\n",
      "\n",
      "else\n",
      "\n",
      "else\n",
      "\n",
      "not j\n",
      "\n",
      "else\n",
      "\n",
      "else\n",
      "\n",
      "else\n",
      "\n",
      "else\n",
      "\n",
      "not j\n",
      "\n",
      "else\n",
      "\n",
      "else\n",
      "\n",
      "else\n",
      "\n",
      "else\n",
      "\n",
      "final dp: \n",
      " [[0, 1, 2, 3, 4], [1, 2, 3, 4, 4], [2, 3, 4, 5, 5], [3, 4, 5, 6, 6], [4, 5, 6, 7, 7]]\n",
      "7\n"
     ]
    }
   ],
   "source": [
    "str = shortestCommonSuperDP(\"abcd\",\"efga\")\n",
    "#str = shortestCommonSuperDP(\"asdfasdf\",\"sdfsdf\")\n",
    "\n",
    "print(str)"
   ]
  },
  {
   "cell_type": "code",
   "execution_count": 20,
   "metadata": {},
   "outputs": [],
   "source": [
    "i = 0"
   ]
  },
  {
   "cell_type": "code",
   "execution_count": 21,
   "metadata": {},
   "outputs": [
    {
     "data": {
      "text/plain": [
       "True"
      ]
     },
     "execution_count": 21,
     "metadata": {},
     "output_type": "execute_result"
    }
   ],
   "source": [
    "not i"
   ]
  },
  {
   "cell_type": "code",
   "execution_count": 19,
   "metadata": {},
   "outputs": [
    {
     "name": "stdout",
     "output_type": "stream",
     "text": [
      "0\n",
      "1\n",
      "2\n"
     ]
    }
   ],
   "source": [
    "for i in range(3):\n",
    "    print(i)"
   ]
  },
  {
   "cell_type": "code",
   "execution_count": null,
   "metadata": {},
   "outputs": [],
   "source": []
  }
 ],
 "metadata": {
  "kernelspec": {
   "display_name": "Python 3",
   "language": "python",
   "name": "python3"
  },
  "language_info": {
   "codemirror_mode": {
    "name": "ipython",
    "version": 3
   },
   "file_extension": ".py",
   "mimetype": "text/x-python",
   "name": "python",
   "nbconvert_exporter": "python",
   "pygments_lexer": "ipython3",
   "version": "3.7.6"
  }
 },
 "nbformat": 4,
 "nbformat_minor": 1
}
